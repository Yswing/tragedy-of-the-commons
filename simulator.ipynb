{
 "cells": [
  {
   "cell_type": "code",
   "execution_count": 7,
   "metadata": {
    "collapsed": true
   },
   "outputs": [],
   "source": [
    "import random\n",
    "import numpy as np"
   ]
  },
  {
   "cell_type": "code",
   "execution_count": 140,
   "metadata": {
    "collapsed": true
   },
   "outputs": [],
   "source": [
    "def get_tree_ind(tiles, n=1):\n",
    "    row = np.random.randint(low=0, high=tiles.shape[0], size=(n,))\n",
    "    col = np.random.randint(low=0, high=tiles.shape[1], size=(n,))\n",
    "    return zip(row, col)\n",
    "\n",
    "def init_board(n_tile_rows, n_tile_cols, n_trees_init):\n",
    "    tiles = np.zeros([n_tile_rows,n_tile_cols])\n",
    "    trees = get_tree_ind(tiles, n_trees_init)\n",
    "    for (r,c) in trees:\n",
    "        tiles[r,c] += 1\n",
    "    return tiles\n",
    "\n",
    "def print_deck_info(deck):\n",
    "    ncs = len([1 for x in deck if x == 'curse'])\n",
    "    ngs = len(deck) - ncs\n",
    "    print \"Distribution: {0} curses, {1} gardens\".format(ncs, ngs)\n",
    "\n",
    "def init_deck(n_curses, n_gardens):\n",
    "    gardens = [\"garden\" for i in xrange(n_gardens)]\n",
    "    curses = [\"curse\" for i in xrange(n_curses)]\n",
    "    deck = gardens + curses\n",
    "    np.random.shuffle(deck)\n",
    "    return deck\n",
    "\n",
    "def shuffle_deck(deck, discard):\n",
    "    assert len(deck) == 0\n",
    "    deck = [x for x in discard]\n",
    "    discard = []\n",
    "    np.random.shuffle(deck)\n",
    "    return deck, discard\n",
    "\n",
    "def draw_card(deck, discard, is_verbose):\n",
    "    if len(deck) == 0:\n",
    "        if is_verbose:\n",
    "            print \"SHUFFLING.\"\n",
    "        deck, discard = shuffle_deck(deck, discard)\n",
    "    draw = deck.pop()\n",
    "    discard.append(draw)\n",
    "    return draw, deck, discard\n",
    "\n",
    "def draw_garden(tiles, discard, is_verbose):\n",
    "    ind = get_tree_ind(tiles, n=1)\n",
    "    r,c = ind[0]\n",
    "    tiles[r,c] += 1\n",
    "    if is_verbose:\n",
    "        print \"Garden ({0},{1})\".format(r,c)\n",
    "    return tiles, discard\n",
    "\n",
    "def valid_curse_inds(tiles):\n",
    "    return [(r,c,tiles[r,c]) for r in xrange(tiles.shape[0]) for c in xrange(tiles.shape[1]) if tiles[r,c] > 0]\n",
    "    \n",
    "def choose_tree_ind(tiles):\n",
    "    options = valid_curse_inds(tiles)\n",
    "    top_opts = [(r,c) for r,c,nts in options if nts > 1]\n",
    "    if top_opts:\n",
    "        r,c = random.choice(top_opts)\n",
    "        n = tiles[r,c]-1\n",
    "    else:\n",
    "        r,c = random.choice([(r,c) for r,c,nts in options])\n",
    "        n = 1\n",
    "    return r,c,n\n",
    "\n",
    "def draw_curse(tiles, discard, is_verbose):\n",
    "    r,c,n = choose_tree_ind(tiles)\n",
    "    assert tiles[r,c] >= n\n",
    "    tiles[r,c] -= n\n",
    "    if tiles[r,c] == 0:\n",
    "        discard.append(\"curse\")\n",
    "    if is_verbose:\n",
    "        print \"Cursing ({0},{1})\".format(r,c)\n",
    "    return tiles, discard\n"
   ]
  },
  {
   "cell_type": "code",
   "execution_count": 145,
   "metadata": {
    "collapsed": false
   },
   "outputs": [
    {
     "name": "stdout",
     "output_type": "stream",
     "text": [
      "Play counts: [ 48.  52.  60.]\n",
      "0 games did not complete\n"
     ]
    }
   ],
   "source": [
    "n_tile_rows = 6\n",
    "n_tile_cols = 6\n",
    "n_trees_init = 10\n",
    "n_gardens = 5\n",
    "n_curses = 3\n",
    "\n",
    "n_games = 200\n",
    "nplays = []\n",
    "max_nplays = 500\n",
    "is_verbose = False\n",
    "\n",
    "for i in xrange(n_games):\n",
    "    if is_verbose:\n",
    "        print '================'\n",
    "    \n",
    "    deck = init_deck(n_curses, n_gardens)\n",
    "    discard = []\n",
    "    tiles = init_board(n_tile_rows, n_tile_cols, n_trees_init)\n",
    "\n",
    "    c = 0\n",
    "    while tiles.sum() > 0 and c < max_nplays:\n",
    "        if len(deck) == 0 and is_verbose:\n",
    "            print_deck_info(discard)\n",
    "        if is_verbose:\n",
    "            print tiles\n",
    "\n",
    "        draw, deck, discard = draw_card(deck, discard, is_verbose)\n",
    "        c += 1\n",
    "        if draw == 'curse':\n",
    "            tiles, discard = draw_curse(tiles, discard, is_verbose)\n",
    "        elif draw == 'garden':\n",
    "            tiles, discard = draw_garden(tiles, discard, is_verbose)\n",
    "\n",
    "        if is_verbose:\n",
    "            print '--------------'    \n",
    "    if is_verbose:\n",
    "        print \"Game ended after {0} plays\".format(c)\n",
    "    nplays.append(c)\n",
    "    if is_verbose:\n",
    "        print '================'\n",
    "        \n",
    "print \"Play counts: {0}\".format(np.percentile(nplays, [25, 50, 75]))\n",
    "print \"{0} games did not complete\".format(len([x for x in nplays if x == max_nplays]))\n"
   ]
  },
  {
   "cell_type": "code",
   "execution_count": 78,
   "metadata": {
    "collapsed": false
   },
   "outputs": [],
   "source": [
    "x = []\n"
   ]
  },
  {
   "cell_type": "code",
   "execution_count": null,
   "metadata": {
    "collapsed": true
   },
   "outputs": [],
   "source": []
  }
 ],
 "metadata": {
  "anaconda-cloud": {},
  "kernelspec": {
   "display_name": "Python [Root]",
   "language": "python",
   "name": "Python [Root]"
  },
  "language_info": {
   "codemirror_mode": {
    "name": "ipython",
    "version": 2
   },
   "file_extension": ".py",
   "mimetype": "text/x-python",
   "name": "python",
   "nbconvert_exporter": "python",
   "pygments_lexer": "ipython2",
   "version": "2.7.12"
  }
 },
 "nbformat": 4,
 "nbformat_minor": 0
}
