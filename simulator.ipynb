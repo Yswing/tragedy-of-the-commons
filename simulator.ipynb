{
 "cells": [
  {
   "cell_type": "code",
   "execution_count": 7,
   "metadata": {
    "collapsed": true
   },
   "outputs": [],
   "source": [
    "import random\n",
    "import numpy as np"
   ]
  },
  {
   "cell_type": "code",
   "execution_count": 241,
   "metadata": {
    "collapsed": true
   },
   "outputs": [],
   "source": [
    "def get_tree_ind(tiles, n=1):\n",
    "    row = np.random.randint(low=0, high=tiles.shape[0], size=(n,))\n",
    "    col = np.random.randint(low=0, high=tiles.shape[1], size=(n,))\n",
    "    return zip(row, col)\n",
    "\n",
    "def init_board(n_tile_rows, n_tile_cols, n_trees_init):\n",
    "    tiles = np.zeros([n_tile_rows,n_tile_cols])\n",
    "    trees = get_tree_ind(tiles, n_trees_init)\n",
    "    for (r,c) in trees:\n",
    "        tiles[r,c] += 1\n",
    "    return tiles\n",
    "\n",
    "def print_deck_info(deck):\n",
    "    ncs = len([1 for x in deck if x == 'curse'])\n",
    "    ngs = len(deck) - ncs\n",
    "    print \"Distribution: {0} curses, {1} gardens\".format(ncs, ngs)\n",
    "\n",
    "def init_deck(n_curses, n_gardens):\n",
    "    gardens = [\"garden\" for i in xrange(n_gardens)]\n",
    "    curses = [\"curse\" for i in xrange(n_curses)]\n",
    "    deck = gardens + curses\n",
    "    np.random.shuffle(deck)\n",
    "    return deck\n",
    "\n",
    "def shuffle_deck(deck, discard):\n",
    "    assert len(deck) == 0\n",
    "    deck = [x for x in discard]\n",
    "    discard = []\n",
    "    np.random.shuffle(deck)\n",
    "    return deck, discard\n",
    "\n",
    "def take_card(deck, discard, is_verbose):\n",
    "    if len(deck) == 0:\n",
    "        if is_verbose:\n",
    "            print \"SHUFFLING.\"\n",
    "        deck, discard = shuffle_deck(deck, discard)\n",
    "    draw = deck.pop()\n",
    "    discard.append(draw)\n",
    "    return draw, deck, discard\n",
    "\n",
    "def draw_garden(tiles, obj_tiles, money, vps, discard, is_verbose):\n",
    "    ind = get_tree_ind(tiles, n=1)\n",
    "    r,c = ind[0]\n",
    "    \n",
    "    # check for hut nearby\n",
    "    inds = objects_touching_inds((r,c), obj_tiles)\n",
    "    v = len([1 for ro,co in inds if obj_tiles[ro,co] == HUT_VAL])\n",
    "    \n",
    "    tiles[r,c] += (v+1)\n",
    "    action = \"Garden ({0},{1}). Adding {2}\".format(r,c, v+1)\n",
    "    return tiles, discard, action, money, vps\n",
    "\n",
    "def valid_curse_inds(tiles):\n",
    "    return [(r,c,tiles[r,c]) for r in xrange(tiles.shape[0]) for c in xrange(tiles.shape[1]) if tiles[r,c] > 0]\n",
    "    \n",
    "def choose_tree_ind(tiles, obj_tiles):\n",
    "    options = valid_curse_inds(tiles)\n",
    "    # find tile with most trees and also with a logging station\n",
    "    max_score = 0\n",
    "    r = 0\n",
    "    c = 0\n",
    "    for rc,cc,nts in options:\n",
    "        inds = objects_touching_inds((rc,cc), obj_tiles)\n",
    "        v = len([1 for ro,co in inds if obj_tiles[ro,co] == LOG_VAL])\n",
    "        if v > 0 and v*nts > max_score:\n",
    "            r = rc\n",
    "            c = cc\n",
    "            max_score = v*nts\n",
    "    if max_score == 0:\n",
    "        top_opts = [(r,c,nts) for r,c,nts in options if nts > 1]\n",
    "        if top_opts:\n",
    "            r,c,nts = random.choice(top_opts)\n",
    "        else:\n",
    "            r,c,nts = random.choice(options)\n",
    "    n = max(1, tiles[r,c]-1)\n",
    "    return r,c,n\n",
    "\n",
    "def draw_curse(tiles, obj_tiles, money, vps, discard, is_verbose):\n",
    "    r,c,n = choose_tree_ind(tiles, obj_tiles)\n",
    "    assert tiles[r,c] >= n\n",
    "    assert n >= 1\n",
    "    tiles[r,c] -= n\n",
    "    action = \"curse. Extracting {2} from ({0},{1})\".format(r,c,n)\n",
    "    \n",
    "    if tiles[r,c] == 0:\n",
    "        discard.append(\"curse\")\n",
    "        action += \" and cursing\"\n",
    "        \n",
    "    profit = n\n",
    "    if n > 1:\n",
    "        profit += 1\n",
    "    money += profit\n",
    "    action += \". Made ${0}\".format(profit)\n",
    "    \n",
    "    # check for VPs\n",
    "    inds = objects_touching_inds((r,c), obj_tiles)\n",
    "    nlgs = len([1 for ro,co in inds if obj_tiles[ro,co] == LOG_VAL])\n",
    "    if nlgs > 0:\n",
    "        vps += n*nlgs\n",
    "        action += \". Earned {0} VP(s)\".format(vps)\n",
    "\n",
    "    return tiles, discard, action, money, vps\n"
   ]
  },
  {
   "cell_type": "code",
   "execution_count": 277,
   "metadata": {
    "collapsed": true
   },
   "outputs": [],
   "source": [
    "HUT_VAL = 1\n",
    "LOG_VAL = 2\n",
    "\n",
    "def init_object_tiles(tiles):\n",
    "    # ignoring edge object tiles\n",
    "    n_rows = 2*(tiles.shape[0]-1)\n",
    "    n_cols = tiles.shape[1]-1\n",
    "    return np.zeros([n_rows,n_cols])\n",
    "\n",
    "def object_touch_inds(r,c):\n",
    "    # no boundary checks because we're ignoring edge object tiles\n",
    "    inds = []\n",
    "    tr = r\n",
    "    tc = c\n",
    "    if r % 2 == 0:\n",
    "        inds = [(tr,tc), (tr,tc+1), (tr+1,tc)]\n",
    "    else:\n",
    "        inds = [(tr+1,tc+1), (tr,tc+1), (tr+1,tc)]\n",
    "    return inds\n",
    "\n",
    "def objects_touching_inds((r,c), obj_tiles):\n",
    "    ro = 2*r\n",
    "    co = c\n",
    "    rs = [ro-2, ro-1, ro-1, ro,   ro, ro+1]\n",
    "    cs = [co,   co-1, co,   co-1, co, co-1]\n",
    "    inds = [(r,c) for r,c in zip(rs,cs) if 0 <= r < obj_tiles.shape[0] and 0 <= c < obj_tiles.shape[1]]\n",
    "    return inds\n",
    "\n",
    "def get_most_valuable_empty_inds(tiles, obj_tiles):\n",
    "    \"\"\"\n",
    "    should also account for whether a tile has a hut nearby\n",
    "    \"\"\"\n",
    "    vals = []\n",
    "    max_val = 0\n",
    "    max_ind = [0,0]\n",
    "    for (i,j) in zip(xrange(obj_tiles.shape[0]), xrange(obj_tiles.shape[1])):\n",
    "        if obj_tiles[i,j] > 0:\n",
    "            continue\n",
    "        inds = object_touch_inds(i,j)\n",
    "        v = np.sum([tiles[x,y] for (x,y) in inds])\n",
    "        vals.append((i,j,v))\n",
    "        if v > max_val:\n",
    "            max_ind = [i,j]\n",
    "    while max_val == 0:\n",
    "        i = random.choice(xrange(obj_tiles.shape[0]))\n",
    "        j = random.choice(xrange(obj_tiles.shape[1]))\n",
    "        if obj_tiles[i,j] == 0:\n",
    "            max_val = 1\n",
    "            max_ind = [i,j]\n",
    "    return max_ind\n",
    "\n",
    "def place_hut(tiles, obj_tiles, money, cost_of_hut):\n",
    "    ind = get_most_valuable_empty_inds(tiles, obj_tiles)\n",
    "    assert(obj_tiles[ind[0],ind[1]] == 0)\n",
    "    obj_tiles[ind[0],ind[1]] = HUT_VAL\n",
    "    money -= cost_of_hut\n",
    "    action = \"added hut to {0},{1}\".format(ind[0], ind[1])\n",
    "    return action, money, obj_tiles\n",
    "\n",
    "def place_log(tiles, obj_tiles, money, cost_of_log):\n",
    "    ind = get_most_valuable_empty_inds(tiles, obj_tiles)\n",
    "    assert(obj_tiles[ind[0],ind[1]] == 0)\n",
    "    obj_tiles[ind[0],ind[1]] = LOG_VAL\n",
    "    money -= cost_of_log\n",
    "    action = \"added log to {0},{1}\".format(ind[0], ind[1])\n",
    "    return action, money, obj_tiles\n",
    "\n",
    "def buy_and_place_items(actions, money, cost_of_hut, cost_of_log, tiles, obj_tiles):\n",
    "    if money >= cost_of_log and money >= cost_of_hut:\n",
    "        if not actions:\n",
    "            return place_hut(tiles, obj_tiles, money, cost_of_hut)\n",
    "        elif \"hut\" in actions[-1]:\n",
    "            return place_log(tiles, obj_tiles, money, cost_of_log)\n",
    "        else:\n",
    "            return place_hut(tiles, obj_tiles, money, cost_of_hut)\n",
    "    elif money >= cost_of_log:\n",
    "        return place_log(tiles, obj_tiles, money, cost_of_log)\n",
    "    elif money >= cost_of_hut:\n",
    "        return place_hut(tiles, obj_tiles, money, cost_of_hut)\n",
    "\n",
    "def draw_card(deck, discard, tiles, obj_tiles, money, vps, is_verbose):\n",
    "    draw, deck, discard = take_card(deck, discard, is_verbose)\n",
    "    if draw == 'curse':\n",
    "        tiles, discard, action, money, vps = draw_curse(tiles, obj_tiles, money, vps, discard, is_verbose)\n",
    "    elif draw == 'garden':\n",
    "        tiles, discard, action, money, vps = draw_garden(tiles, obj_tiles, money, vps, discard, is_verbose)\n",
    "    action = \"drew \" + action\n",
    "    return tiles, deck, discard, action, money, vps\n",
    "\n",
    "def choose_action(money, vps, cost_of_hut, cost_of_log, tiles, obj_tiles, deck, discard, is_verbose):\n",
    "    \"\"\"\n",
    "    draw if not enough money\n",
    "    otherwise, buy as many huts and logs as possible,\n",
    "        alternating between the two if you can buy multiples\n",
    "    \"\"\"\n",
    "    if money < np.min([cost_of_log, cost_of_hut]):\n",
    "        tiles, deck, discard, action, money, vps = draw_card(deck, discard, tiles, obj_tiles, money, vps, is_verbose)\n",
    "    else:\n",
    "        actions = []\n",
    "        while money >= np.min([cost_of_log, cost_of_hut]):\n",
    "            action, money, obj_tiles = buy_and_place_items(actions, money, cost_of_hut, cost_of_log, tiles, obj_tiles)\n",
    "            actions.append(action)\n",
    "        action = ', '.join(actions)\n",
    "    return action, money, vps, tiles, obj_tiles, deck, discard\n"
   ]
  },
  {
   "cell_type": "code",
   "execution_count": 278,
   "metadata": {
    "collapsed": false
   },
   "outputs": [
    {
     "name": "stdout",
     "output_type": "stream",
     "text": [
      "[[1 2 3]\n",
      " [4 5 6]\n",
      " [2 2 4]]\n"
     ]
    }
   ],
   "source": [
    "xs = np.array([(1,2,3), (4,5,6), (2,2,4)])\n",
    "print xs"
   ]
  },
  {
   "cell_type": "code",
   "execution_count": null,
   "metadata": {
    "collapsed": false
   },
   "outputs": [],
   "source": [
    "n_tile_rows = 6\n",
    "n_tile_cols = 6\n",
    "n_trees_init = 10\n",
    "n_gardens = 5\n",
    "n_curses = 3\n",
    "\n",
    "# n_players = 2\n",
    "cost_of_hut = 2\n",
    "cost_of_log = 3\n",
    "\n",
    "n_games = 50\n",
    "nplays = []\n",
    "max_nplays = 500\n",
    "is_verbose = False\n",
    "all_vps = []\n",
    "\n",
    "for i in xrange(n_games):\n",
    "    if is_verbose:\n",
    "        print '================'\n",
    "    \n",
    "    deck = init_deck(n_curses, n_gardens)\n",
    "    discard = []\n",
    "    tiles = init_board(n_tile_rows, n_tile_cols, n_trees_init)\n",
    "    obj_tiles = init_object_tiles(tiles)\n",
    "\n",
    "    c = 0\n",
    "    money = 0\n",
    "    vps = 0\n",
    "    while tiles.sum() > 0 and c < max_nplays:\n",
    "        if len(deck) == 0 and is_verbose:\n",
    "            print_deck_info(discard)\n",
    "        if is_verbose:\n",
    "            print tiles\n",
    "            \n",
    "        action, money, vps, tiles, obj_tiles, deck, discard = choose_action(money, vps, cost_of_hut, cost_of_log, tiles, obj_tiles, deck, discard, is_verbose)\n",
    "        if is_verbose:\n",
    "            print action\n",
    "        c += 1\n",
    "        \n",
    "        if is_verbose:\n",
    "            print '--------------'    \n",
    "    if is_verbose:\n",
    "        print \"Game ended after {0} plays and {1} VPs\".format(c, vps)\n",
    "    nplays.append(c)\n",
    "    all_vps.append(vps)\n",
    "    if is_verbose:\n",
    "        print '================'\n",
    "        \n",
    "print \"Play counts: {0}\".format(np.percentile(nplays, [10, 50, 90]))\n",
    "print \"VPs: {0}\".format(np.percentile(vps, [10, 50, 90]))\n",
    "print \"{0} games did not complete\".format(len([x for x in nplays if x == max_nplays]))\n"
   ]
  },
  {
   "cell_type": "code",
   "execution_count": 280,
   "metadata": {
    "collapsed": false
   },
   "outputs": [
    {
     "data": {
      "text/plain": [
       "(13.0, 2.0)"
      ]
     },
     "execution_count": 280,
     "metadata": {},
     "output_type": "execute_result"
    }
   ],
   "source": [
    "vps, money"
   ]
  },
  {
   "cell_type": "code",
   "execution_count": 224,
   "metadata": {
    "collapsed": false
   },
   "outputs": [],
   "source": [
    "inds = [(3,2), (1,2)]\n"
   ]
  },
  {
   "cell_type": "code",
   "execution_count": 225,
   "metadata": {
    "collapsed": false
   },
   "outputs": [
    {
     "data": {
      "text/plain": [
       "array([ 0.,  0.])"
      ]
     },
     "execution_count": 225,
     "metadata": {},
     "output_type": "execute_result"
    }
   ],
   "source": [
    "tiles[inds]"
   ]
  },
  {
   "cell_type": "code",
   "execution_count": null,
   "metadata": {
    "collapsed": true
   },
   "outputs": [],
   "source": []
  }
 ],
 "metadata": {
  "anaconda-cloud": {},
  "kernelspec": {
   "display_name": "Python [Root]",
   "language": "python",
   "name": "Python [Root]"
  },
  "language_info": {
   "codemirror_mode": {
    "name": "ipython",
    "version": 2
   },
   "file_extension": ".py",
   "mimetype": "text/x-python",
   "name": "python",
   "nbconvert_exporter": "python",
   "pygments_lexer": "ipython2",
   "version": "2.7.12"
  }
 },
 "nbformat": 4,
 "nbformat_minor": 0
}
